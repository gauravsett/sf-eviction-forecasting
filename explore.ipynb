{
 "cells": [
  {
   "cell_type": "code",
   "execution_count": 2,
   "metadata": {},
   "outputs": [],
   "source": [
    "import pandas as pd\n",
    "import geopandas as gpd\n",
    "import networkx\n",
    "import requests"
   ]
  },
  {
   "cell_type": "code",
   "execution_count": 17,
   "metadata": {},
   "outputs": [
    {
     "name": "stdout",
     "output_type": "stream",
     "text": [
      "Index(['__id', 'closed_roll_year', 'property_location', 'parcel_number',\n",
      "       'block', 'lot', 'volume_number', 'use_code', 'use_definition',\n",
      "       'property_class_code', 'property_class_code_definition',\n",
      "       'year_property_built', 'number_of_bathrooms', 'number_of_bedrooms',\n",
      "       'number_of_rooms', 'number_of_stories', 'number_of_units',\n",
      "       'zoning_code', 'construction_type', 'lot_depth', 'lot_frontage',\n",
      "       'property_area', 'basement_area', 'lot_area', 'lot_code',\n",
      "       'tax_rate_area_code', 'percent_of_ownership', 'exemption_code',\n",
      "       'exemption_code_definition', 'status_code', 'misc_exemption_value',\n",
      "       'homeowner_exemption_value', 'current_sales_date',\n",
      "       'assessed_fixtures_value', 'assessed_improvement_value',\n",
      "       'assessed_land_value', 'assessed_personal_property_value',\n",
      "       'assessor_neighborhood_district', 'assessor_neighborhood_code',\n",
      "       'assessor_neighborhood', 'supervisor_district', 'analysis_neighborhood',\n",
      "       'the_geom', 'row_id'],\n",
      "      dtype='object')\n",
      "(1000, 44)\n",
      "Index(['__id', 'eviction_id', 'address', 'city', 'state', 'zip', 'file_date',\n",
      "       'non_payment', 'breach', 'nuisance', 'illegal_use',\n",
      "       'failure_to_sign_renewal', 'access_denial', 'unapproved_subtenant',\n",
      "       'owner_move_in', 'demolition', 'capital_improvement',\n",
      "       'substantial_rehab', 'ellis_act_withdrawal', 'condo_conversion',\n",
      "       'roommate_same_unit', 'other_cause', 'late_payments',\n",
      "       'lead_remediation', 'development', 'good_samaritan_ends',\n",
      "       'constraints_date', 'supervisor_district', 'neighborhood',\n",
      "       'client_location', 'shape', 'client_location_address',\n",
      "       'client_location_city', 'client_location_state', 'client_location_zip'],\n",
      "      dtype='object')\n",
      "(1000, 35)\n"
     ]
    }
   ],
   "source": [
    "def load_data(url):\n",
    "\n",
    "    response = requests.get(url)\n",
    "    json_data = response.json()\n",
    "    data = json_data['value']\n",
    "\n",
    "    df = pd.DataFrame(data)\n",
    "    return df\n",
    "\n",
    "\n",
    "table = load_data(\"https://data.sfgov.org/api/odata/v4/wv5m-vpq2\")\n",
    "print(table.columns)\n",
    "print(table.shape)\n",
    "\n",
    "table = load_data(\"https://data.sfgov.org/api/odata/v4/5cei-gny5\")\n",
    "print(table.columns)\n",
    "print(table.shape)"
   ]
  },
  {
   "cell_type": "code",
   "execution_count": null,
   "metadata": {},
   "outputs": [],
   "source": [
    "def load_parcels():\n",
    "    \n",
    "    pass"
   ]
  },
  {
   "cell_type": "code",
   "execution_count": null,
   "metadata": {},
   "outputs": [],
   "source": [
    "def load_evictions():\n",
    "    pass"
   ]
  },
  {
   "cell_type": "code",
   "execution_count": null,
   "metadata": {},
   "outputs": [],
   "source": [
    "def merge_parcels_evictions():\n",
    "    # Merge evictions onto parcels by address\n",
    "    pass"
   ]
  },
  {
   "cell_type": "code",
   "execution_count": null,
   "metadata": {},
   "outputs": [],
   "source": [
    "def build_graph():\n",
    "    # Make each parcel a vertex, draw edges between parcels within distance d = p(max_distance)\n",
    "    pass"
   ]
  },
  {
   "cell_type": "code",
   "execution_count": null,
   "metadata": {},
   "outputs": [],
   "source": [
    "def compute_features():\n",
    "    # Compute basic spatial features for each parcel\n",
    "    pass"
   ]
  }
 ],
 "metadata": {
  "kernelspec": {
   "display_name": "Python 3",
   "language": "python",
   "name": "python3"
  },
  "language_info": {
   "codemirror_mode": {
    "name": "ipython",
    "version": 3
   },
   "file_extension": ".py",
   "mimetype": "text/x-python",
   "name": "python",
   "nbconvert_exporter": "python",
   "pygments_lexer": "ipython3",
   "version": "3.10.7"
  },
  "orig_nbformat": 4
 },
 "nbformat": 4,
 "nbformat_minor": 2
}
